{
 "cells": [
  {
   "cell_type": "markdown",
   "id": "d5bbf139",
   "metadata": {},
   "source": [
    "# Generation of training and testing data from models\n",
    "****\n",
    "- Data source: Dr. Michel Curé and Catalina Arcos, IFA UV\n",
    "- Each model is stored in a file with a name like: \"t4000g20v10.dat\", where\n",
    " - t is the effective temperature: 4000 [K]\n",
    " - g is 10 times the logarithm of the gravity in [cm/seg^2]: 20/10 = 2.0\n",
    " - v_rot is the rotational velocity in [km/seg]: 10\n",
    " \n",
    "- For this analysis we will consider:\n",
    " - v_rot >= 100\n",
    " - t_eff >= 15000\n",
    " - wavelength range [4460, 4480]\n",
    "\n",
    "- Note that the y axis is the normalized flux\n"
   ]
  },
  {
   "cell_type": "markdown",
   "id": "1514735f",
   "metadata": {},
   "source": [
    "## Needed libraries"
   ]
  },
  {
   "cell_type": "code",
   "execution_count": 173,
   "id": "7b8af453",
   "metadata": {},
   "outputs": [],
   "source": [
    "import glob\n",
    "import numpy as np\n",
    "import pandas as pd\n",
    "from matplotlib import pyplot as plt\n",
    "import shutil\n",
    "\n",
    "from sklearn.model_selection import train_test_split\n"
   ]
  },
  {
   "cell_type": "markdown",
   "id": "ff6e1c6c",
   "metadata": {},
   "source": [
    "## Functions"
   ]
  },
  {
   "cell_type": "code",
   "execution_count": 174,
   "id": "070638e5",
   "metadata": {},
   "outputs": [],
   "source": [
    "def string2params(string, show=False):\n",
    "    s1 = string.partition(\"g\")\n",
    "    t = s1[0][1:]\n",
    "    s2 = s1[2].partition(\"v\")\n",
    "    g = s2[0]\n",
    "    v = s2[-1]\n",
    "    if show:\n",
    "        print(s1)\n",
    "        print(\"t:\",t)\n",
    "        print(s2)\n",
    "        print(\"g: \",float(g)/10)\n",
    "        print(\"v:\", v)\n",
    "    return float(t), float(g)/10, float(v)"
   ]
  },
  {
   "cell_type": "markdown",
   "id": "f1604739",
   "metadata": {},
   "source": [
    "## Files list"
   ]
  },
  {
   "cell_type": "code",
   "execution_count": 175,
   "id": "416941eb",
   "metadata": {},
   "outputs": [
    {
     "name": "stdout",
     "output_type": "stream",
     "text": [
      "Number of files in models 5425\n",
      "5 first files: \n",
      " ['data/filtered_wv_models\\\\f_t15000g20v100.dat', 'data/filtered_wv_models\\\\f_t15000g20v110.dat', 'data/filtered_wv_models\\\\f_t15000g20v120.dat', 'data/filtered_wv_models\\\\f_t15000g20v130.dat', 'data/filtered_wv_models\\\\f_t15000g20v140.dat']\n"
     ]
    }
   ],
   "source": [
    "files = glob.glob('data/filtered_wv_models/*')\n",
    "m = len(files)\n",
    "print(\"Number of files in models\", m)\n",
    "print(\"5 first files: \\n\", files[0:5])\n"
   ]
  },
  {
   "cell_type": "markdown",
   "id": "487add32",
   "metadata": {
    "tags": []
   },
   "source": [
    "## Building X an y matrices\n",
    "*****"
   ]
  },
  {
   "cell_type": "code",
   "execution_count": 176,
   "id": "7c341313",
   "metadata": {},
   "outputs": [
    {
     "name": "stdout",
     "output_type": "stream",
     "text": [
      "--> X has parametros 5425  x 201\n",
      "--> y has dimension 5425  x 3\n"
     ]
    },
    {
     "data": {
      "text/plain": [
       "(201,)"
      ]
     },
     "metadata": {},
     "output_type": "display_data"
    },
    {
     "name": "stdout",
     "output_type": "stream",
     "text": [
      "Num. of points in x axis:  201\n"
     ]
    }
   ],
   "source": [
    "print(\"--> X has parametros\", m, \" x 201\")\n",
    "print(\"--> y has dimension\", m, \" x 3\")\n",
    "\n",
    "y = np.zeros((m,3))\n",
    "df = pd.read_csv(files[0], sep=\" \", header=None)\n",
    "x_points = df[0].values\n",
    "n_points, n_columns = df.shape\n",
    "display(df[1].values.shape)\n",
    "print(\"Num. of points in x axis: \", n_points)\n",
    "\n"
   ]
  },
  {
   "cell_type": "code",
   "execution_count": 177,
   "id": "b97b52e3",
   "metadata": {
    "tags": []
   },
   "outputs": [],
   "source": [
    "# X matrix contains the spectral lines\n",
    "X = np.zeros((m,n_points))\n",
    "# y matrix contains the labels of each spectral line\n",
    "y = np.zeros((m,3))\n",
    "\n",
    "for i,name in enumerate(files):\n",
    "    \n",
    "    file_name = name.split(\"/\")[-1].split(\".\")[0]\n",
    "    \n",
    "    #print(\"Nombre archivo:\",file_name)\n",
    "    \n",
    "    nombreArch = file_name.split(\"\\\\\"[0])\n",
    "    linea = nombreArch[1]\n",
    "    \n",
    "    #print(\"Linea\",linea)\n",
    "    \n",
    "    df = pd.read_csv(name, sep=\" \", header=None)\n",
    "    \n",
    "    t,g,v = string2params(linea.split(\"_\")[1])\n",
    "    X[i,:] = df[1].values\n",
    "    y[i] = t,g,v\n",
    "    #print(\"----\")"
   ]
  },
  {
   "cell_type": "code",
   "execution_count": 178,
   "id": "77184ef3",
   "metadata": {
    "tags": []
   },
   "outputs": [],
   "source": [
    "from sklearn.preprocessing import MinMaxScaler, StandardScaler\n",
    "from sklearn.model_selection import train_test_split\n",
    "from sklearn.metrics import classification_report, plot_confusion_matrix\n",
    "\n",
    "\n",
    "# ¿Será necesario normalizar X?\n",
    "########\n",
    "scaler3 = StandardScaler()\n",
    "scaler3.fit(X)\n",
    "X_s = scaler.transform(X)\n",
    "\n",
    "# Normalización de los labels\n",
    "scaler2 = StandardScaler()\n",
    "scaler2.fit(y)\n",
    "y_s = scaler2.transform(y)"
   ]
  },
  {
   "cell_type": "markdown",
   "id": "158b3fcc",
   "metadata": {},
   "source": [
    "## Training, testing and validation sets"
   ]
  },
  {
   "cell_type": "code",
   "execution_count": 179,
   "id": "2a81076b",
   "metadata": {},
   "outputs": [],
   "source": [
    "def train_val_test_split(X, y, train_size, val_size, test_size, random_state = 1):\n",
    "    if train_size + val_size + test_size != 1.0:\n",
    "        print(\"Incorrect sizes!\")\n",
    "        return None\n",
    "    \n",
    "    X_tmp, X_test, y_tmp, y_test = train_test_split(X, y, test_size = test_size, random_state=random_state)\n",
    "    X_train, X_val, y_train, y_val = train_test_split(X_tmp, y_tmp, test_size = val_size/(test_size + train_size), random_state=random_state)\n",
    "    return X_train, X_val, X_test, y_train, y_val, y_test"
   ]
  },
  {
   "cell_type": "code",
   "execution_count": 180,
   "id": "266c7d96",
   "metadata": {},
   "outputs": [],
   "source": [
    "X_train, X_val, X_test, y_train, y_val, y_test = train_val_test_split(X_s, y_s, .8, .1, .1)"
   ]
  },
  {
   "cell_type": "code",
   "execution_count": 181,
   "id": "59a828ef",
   "metadata": {},
   "outputs": [
    {
     "name": "stdout",
     "output_type": "stream",
     "text": [
      "(4339, 201) (4339, 3)\n",
      "(543, 201) (543, 3)\n",
      "(543, 201) (543, 3)\n"
     ]
    }
   ],
   "source": [
    "print(X_train.shape, y_train.shape)\n",
    "print(X_test.shape, y_test.shape)\n",
    "print(X_val.shape, y_val.shape)"
   ]
  },
  {
   "cell_type": "markdown",
   "id": "a44cf7c8",
   "metadata": {},
   "source": [
    "# Convolutional neural network"
   ]
  },
  {
   "cell_type": "code",
   "execution_count": 182,
   "id": "90614e20",
   "metadata": {},
   "outputs": [],
   "source": [
    "# about activation functions: https://datascience.stackexchange.com/questions/47751/what-activation-function-should-i-use-for-a-specific-regression-problem"
   ]
  },
  {
   "cell_type": "code",
   "execution_count": 183,
   "id": "c1941b5e",
   "metadata": {},
   "outputs": [],
   "source": [
    "# https://colab.research.google.com/drive/1zjh0tUPYJYgJJunpLC9fW5uf--O0LKeZ?usp=sharing#scrollTo=ud_tq1A0Ffvl\n",
    "\n",
    "time_steps = X.shape[1]\n",
    "input_dimension = 1"
   ]
  },
  {
   "cell_type": "code",
   "execution_count": 184,
   "id": "281627e8",
   "metadata": {},
   "outputs": [],
   "source": [
    "sample_size = X_train.shape[0]\n",
    "X_train_reshaped = X_train.reshape((sample_size, time_steps, input_dimension))\n",
    "sample_size = X_val.shape[0]\n",
    "X_val_reshaped = X_val.reshape((sample_size, time_steps, input_dimension))\n",
    "sample_size = X_test.shape[0]\n",
    "X_test_reshaped = X_test.reshape((sample_size, time_steps, input_dimension))"
   ]
  },
  {
   "cell_type": "code",
   "execution_count": 185,
   "id": "4cdfad1e",
   "metadata": {},
   "outputs": [
    {
     "name": "stdout",
     "output_type": "stream",
     "text": [
      "(4339, 201, 1)\n",
      "(543, 201, 1)\n",
      "(543, 201, 1)\n"
     ]
    }
   ],
   "source": [
    "print(X_train_reshaped.shape)\n",
    "print(X_val_reshaped.shape)\n",
    "print(X_test_reshaped.shape)"
   ]
  },
  {
   "cell_type": "markdown",
   "id": "e94553e2",
   "metadata": {},
   "source": [
    "# Histograms\n",
    "*****\n"
   ]
  },
  {
   "cell_type": "code",
   "execution_count": 186,
   "id": "749587ea",
   "metadata": {},
   "outputs": [],
   "source": [
    "def histograms_params(train, test, val, bins, labels, title=None):\n",
    "    plt.figure()\n",
    "    plt.hist(train, bins='auto', label=labels[0])\n",
    "    if val is not None:\n",
    "        plt.hist(val, bins='auto', label=labels[1])\n",
    "    if test is not None:\n",
    "        plt.hist(test, bins='auto', label=labels[2], alpha=0.3)\n",
    "    \n",
    "    if title is not None:\n",
    "        plt.title(title)\n",
    "    plt.legend(loc=\"best\")\n",
    "    plt.show()\n",
    "    \n",
    "\n",
    "import seaborn as sns\n",
    "sns.set_theme(style=\"whitegrid\")\n"
   ]
  },
  {
   "cell_type": "code",
   "execution_count": 187,
   "id": "0d430cf7",
   "metadata": {},
   "outputs": [
    {
     "data": {
      "image/png": "[encoded data removed]",
      "text/plain": [
       "<Figure size 432x288 with 1 Axes>"
      ]
     },
     "metadata": {},
     "output_type": "display_data"
    },
    {
     "data": {
      "image/png": "[encoded data removed]",
      "text/plain": [
       "<Figure size 432x288 with 1 Axes>"
      ]
     },
     "metadata": {},
     "output_type": "display_data"
    },
    {
     "data": {
      "image/png": "[encoded data removed]",
      "text/plain": [
       "<Figure size 432x288 with 1 Axes>"
      ]
     },
     "metadata": {},
     "output_type": "display_data"
    }
   ],
   "source": [
    "histograms_params(y_train[:,0], y_val[:,0], y_test[:,0], 0, [\"train\", \"test\", \"val\"])\n",
    "histograms_params(y_train[:,1], y_val[:,1], y_test[:,1], 0, [\"train\", \"test\", \"val\"], \"Log g\")\n",
    "histograms_params(y_train[:,2], y_val[:,2], y_test[:,2], 0, [\"train\", \"test\", \"val\"], \"v rot\")"
   ]
  },
  {
   "cell_type": "code",
   "execution_count": 188,
   "id": "0c3df83b",
   "metadata": {},
   "outputs": [],
   "source": [
    "import tensorflow as tf\n",
    "import keras"
   ]
  },
  {
   "cell_type": "markdown",
   "id": "a71be514",
   "metadata": {},
   "source": [
    "### Optimizar los parámetros de esta red\n",
    "***\n",
    "- Puede cambiar la arquitectura, agregando o quitando capas, modificando las funciones de activación, cambiando la función de pérdida, etc."
   ]
  },
  {
   "cell_type": "code",
   "execution_count": 312,
   "id": "13fba70c",
   "metadata": {},
   "outputs": [
    {
     "name": "stdout",
     "output_type": "stream",
     "text": [
      "Model: \"model_conv1D\"\n",
      "_________________________________________________________________\n",
      " Layer (type)                Output Shape              Param #   \n",
      "=================================================================\n",
      " Conv1D_1 (Conv1D)           (None, 195, 32)           256       \n",
      "                                                                 \n",
      " Conv1D_2 (Conv1D)           (None, 193, 32)           3104      \n",
      "                                                                 \n",
      " Conv1D_3 (Conv1D)           (None, 191, 16)           1552      \n",
      "                                                                 \n",
      " flatten_28 (Flatten)        (None, 3056)              0         \n",
      "                                                                 \n",
      " Dense_1 (Dense)             (None, 32)                97824     \n",
      "                                                                 \n",
      " Dense_2 (Dense)             (None, 3)                 99        \n",
      "                                                                 \n",
      " Dense_3 (Dense)             (None, 3)                 12        \n",
      "                                                                 \n",
      "=================================================================\n",
      "Total params: 102,847\n",
      "Trainable params: 102,847\n",
      "Non-trainable params: 0\n",
      "_________________________________________________________________\n"
     ]
    }
   ],
   "source": [
    "def build_conv1D_model():\n",
    "    n_timesteps = X_train_reshaped.shape[1] #210\n",
    "    n_features  = X_train_reshaped.shape[2] #1 \n",
    "    model = keras.Sequential(name=\"model_conv1D\")\n",
    "    model.add(keras.layers.Input(shape=(n_timesteps,n_features)))\n",
    "    model.add(keras.layers.Conv1D(filters=32, kernel_size=7, activation='relu', name=\"Conv1D_1\"))\n",
    "    model.add(keras.layers.Conv1D(filters=32, kernel_size=3, activation='relu', name=\"Conv1D_2\"))\n",
    "    model.add(keras.layers.Conv1D(filters=16, kernel_size=3, activation='relu', name=\"Conv1D_3\"))\n",
    "    tf.keras.layers.BatchNormalization()\n",
    "    model.add(keras.layers.Flatten())\n",
    "    model.add(keras.layers.Dense(32, activation= \"linear\", name=\"Dense_1\"))\n",
    "    model.add(keras.layers.Dense(3, activation = \"selu\", name=\"Dense_2\"))\n",
    "    model.add(keras.layers.Dense(3, activation = \"selu\", name=\"Dense_3\"))\n",
    "\n",
    "    optimizer = tf.keras.optimizers.RMSprop(0.001)\n",
    "\n",
    "    l = tf.keras.losses.LogCosh()\n",
    "    \n",
    "    model.compile(loss='mse',optimizer=optimizer,metrics=['mse'])\n",
    "    return model\n",
    "\n",
    "model_conv1D = build_conv1D_model()\n",
    "model_conv1D.summary()"
   ]
  },
  {
   "cell_type": "code",
   "execution_count": 277,
   "id": "7725c634",
   "metadata": {},
   "outputs": [
    {
     "name": "stdout",
     "output_type": "stream",
     "text": [
      "Epoch 1/50\n",
      "136/136 [==============================] - 3s 11ms/step - loss: 0.3698 - mse: 0.3698 - val_loss: 0.2362 - val_mse: 0.2362\n",
      "Epoch 2/50\n",
      "136/136 [==============================] - 1s 10ms/step - loss: 0.1606 - mse: 0.1606 - val_loss: 0.1293 - val_mse: 0.1293\n",
      "Epoch 3/50\n",
      "136/136 [==============================] - 1s 10ms/step - loss: 0.1217 - mse: 0.1217 - val_loss: 0.1194 - val_mse: 0.1194\n",
      "Epoch 4/50\n",
      "136/136 [==============================] - 1s 10ms/step - loss: 0.1053 - mse: 0.1053 - val_loss: 0.1025 - val_mse: 0.1025\n",
      "Epoch 5/50\n",
      "136/136 [==============================] - 1s 10ms/step - loss: 0.0919 - mse: 0.0919 - val_loss: 0.1132 - val_mse: 0.1132\n",
      "Epoch 6/50\n",
      "136/136 [==============================] - 1s 10ms/step - loss: 0.0851 - mse: 0.0851 - val_loss: 0.0899 - val_mse: 0.0899\n",
      "Epoch 7/50\n",
      "136/136 [==============================] - 1s 10ms/step - loss: 0.0802 - mse: 0.0802 - val_loss: 0.1012 - val_mse: 0.1012\n",
      "Epoch 8/50\n",
      "136/136 [==============================] - 1s 10ms/step - loss: 0.0774 - mse: 0.0774 - val_loss: 0.0897 - val_mse: 0.0897\n",
      "Epoch 9/50\n",
      "136/136 [==============================] - 1s 10ms/step - loss: 0.0731 - mse: 0.0731 - val_loss: 0.0991 - val_mse: 0.0991\n",
      "Epoch 10/50\n",
      "136/136 [==============================] - 1s 10ms/step - loss: 0.0698 - mse: 0.0698 - val_loss: 0.0676 - val_mse: 0.0676\n",
      "Epoch 11/50\n",
      "136/136 [==============================] - 1s 10ms/step - loss: 0.0681 - mse: 0.0681 - val_loss: 0.0663 - val_mse: 0.0663\n",
      "Epoch 12/50\n",
      "136/136 [==============================] - 1s 10ms/step - loss: 0.0666 - mse: 0.0666 - val_loss: 0.0754 - val_mse: 0.0754\n",
      "Epoch 13/50\n",
      "136/136 [==============================] - 1s 10ms/step - loss: 0.0652 - mse: 0.0652 - val_loss: 0.0839 - val_mse: 0.0839\n",
      "Epoch 14/50\n",
      "136/136 [==============================] - 1s 10ms/step - loss: 0.0639 - mse: 0.0639 - val_loss: 0.0653 - val_mse: 0.0653\n",
      "Epoch 15/50\n",
      "136/136 [==============================] - 1s 10ms/step - loss: 0.0636 - mse: 0.0636 - val_loss: 0.0655 - val_mse: 0.0655\n",
      "Epoch 16/50\n",
      "136/136 [==============================] - 1s 11ms/step - loss: 0.0618 - mse: 0.0618 - val_loss: 0.0714 - val_mse: 0.0714\n",
      "Epoch 17/50\n",
      "136/136 [==============================] - 1s 10ms/step - loss: 0.0612 - mse: 0.0612 - val_loss: 0.0632 - val_mse: 0.0632\n",
      "Epoch 18/50\n",
      "136/136 [==============================] - 2s 11ms/step - loss: 0.0591 - mse: 0.0591 - val_loss: 0.0572 - val_mse: 0.0572\n",
      "Epoch 19/50\n",
      "136/136 [==============================] - 1s 10ms/step - loss: 0.0591 - mse: 0.0591 - val_loss: 0.1027 - val_mse: 0.1027\n",
      "Epoch 20/50\n",
      "136/136 [==============================] - 1s 10ms/step - loss: 0.0583 - mse: 0.0583 - val_loss: 0.0641 - val_mse: 0.0641\n",
      "Epoch 21/50\n",
      "136/136 [==============================] - 1s 10ms/step - loss: 0.0575 - mse: 0.0575 - val_loss: 0.0608 - val_mse: 0.0608\n",
      "Epoch 22/50\n",
      "136/136 [==============================] - 1s 11ms/step - loss: 0.0570 - mse: 0.0570 - val_loss: 0.0617 - val_mse: 0.0617\n",
      "Epoch 23/50\n",
      "136/136 [==============================] - 1s 11ms/step - loss: 0.0562 - mse: 0.0562 - val_loss: 0.0750 - val_mse: 0.0750\n",
      "Epoch 24/50\n",
      "136/136 [==============================] - 1s 10ms/step - loss: 0.0553 - mse: 0.0553 - val_loss: 0.0617 - val_mse: 0.0617\n",
      "Epoch 25/50\n",
      "136/136 [==============================] - 1s 10ms/step - loss: 0.0539 - mse: 0.0539 - val_loss: 0.0601 - val_mse: 0.0601\n",
      "Epoch 26/50\n",
      "136/136 [==============================] - 1s 10ms/step - loss: 0.0540 - mse: 0.0540 - val_loss: 0.0758 - val_mse: 0.0758\n",
      "Epoch 27/50\n",
      "136/136 [==============================] - 2s 11ms/step - loss: 0.0538 - mse: 0.0538 - val_loss: 0.0608 - val_mse: 0.0608\n",
      "Epoch 28/50\n",
      "136/136 [==============================] - 1s 11ms/step - loss: 0.0537 - mse: 0.0537 - val_loss: 0.0560 - val_mse: 0.0560\n",
      "Epoch 29/50\n",
      "136/136 [==============================] - 1s 11ms/step - loss: 0.0528 - mse: 0.0528 - val_loss: 0.0578 - val_mse: 0.0578\n",
      "Epoch 30/50\n",
      "136/136 [==============================] - 1s 10ms/step - loss: 0.0520 - mse: 0.0520 - val_loss: 0.0510 - val_mse: 0.0510\n",
      "Epoch 31/50\n",
      "136/136 [==============================] - 1s 10ms/step - loss: 0.0524 - mse: 0.0524 - val_loss: 0.0602 - val_mse: 0.0602\n",
      "Epoch 32/50\n",
      "136/136 [==============================] - 2s 11ms/step - loss: 0.0518 - mse: 0.0518 - val_loss: 0.0539 - val_mse: 0.0539\n",
      "Epoch 33/50\n",
      "136/136 [==============================] - 1s 11ms/step - loss: 0.0505 - mse: 0.0505 - val_loss: 0.0769 - val_mse: 0.0769\n",
      "Epoch 34/50\n",
      "136/136 [==============================] - 1s 11ms/step - loss: 0.0515 - mse: 0.0515 - val_loss: 0.0520 - val_mse: 0.0520\n",
      "Epoch 35/50\n",
      "136/136 [==============================] - 1s 11ms/step - loss: 0.0505 - mse: 0.0505 - val_loss: 0.0569 - val_mse: 0.0569\n",
      "Epoch 36/50\n",
      "136/136 [==============================] - 1s 11ms/step - loss: 0.0502 - mse: 0.0502 - val_loss: 0.0643 - val_mse: 0.0643\n",
      "Epoch 37/50\n",
      "136/136 [==============================] - 1s 10ms/step - loss: 0.0500 - mse: 0.0500 - val_loss: 0.0533 - val_mse: 0.0533\n",
      "Epoch 38/50\n",
      "136/136 [==============================] - 2s 12ms/step - loss: 0.0496 - mse: 0.0496 - val_loss: 0.0598 - val_mse: 0.0598\n",
      "Epoch 39/50\n",
      "136/136 [==============================] - 1s 10ms/step - loss: 0.0490 - mse: 0.0490 - val_loss: 0.0598 - val_mse: 0.0598\n",
      "Epoch 40/50\n",
      "136/136 [==============================] - 1s 10ms/step - loss: 0.0483 - mse: 0.0483 - val_loss: 0.0490 - val_mse: 0.0490\n",
      "Epoch 41/50\n",
      "136/136 [==============================] - 1s 10ms/step - loss: 0.0487 - mse: 0.0487 - val_loss: 0.0523 - val_mse: 0.0523\n",
      "Epoch 42/50\n",
      "136/136 [==============================] - 1s 10ms/step - loss: 0.0485 - mse: 0.0485 - val_loss: 0.0725 - val_mse: 0.0725\n",
      "Epoch 43/50\n",
      "136/136 [==============================] - 1s 10ms/step - loss: 0.0481 - mse: 0.0481 - val_loss: 0.0567 - val_mse: 0.0567\n",
      "Epoch 44/50\n",
      "136/136 [==============================] - 2s 11ms/step - loss: 0.0482 - mse: 0.0482 - val_loss: 0.0494 - val_mse: 0.0494\n",
      "Epoch 45/50\n",
      "136/136 [==============================] - 1s 10ms/step - loss: 0.0476 - mse: 0.0476 - val_loss: 0.0522 - val_mse: 0.0522\n",
      "Epoch 46/50\n",
      "136/136 [==============================] - 1s 10ms/step - loss: 0.0472 - mse: 0.0472 - val_loss: 0.0551 - val_mse: 0.0551\n",
      "Epoch 47/50\n",
      "136/136 [==============================] - 1s 10ms/step - loss: 0.0476 - mse: 0.0476 - val_loss: 0.0493 - val_mse: 0.0493\n",
      "Epoch 48/50\n",
      "136/136 [==============================] - 1s 11ms/step - loss: 0.0469 - mse: 0.0469 - val_loss: 0.0536 - val_mse: 0.0536\n",
      "Epoch 49/50\n",
      "136/136 [==============================] - 2s 13ms/step - loss: 0.0465 - mse: 0.0465 - val_loss: 0.0488 - val_mse: 0.0488\n",
      "Epoch 50/50\n",
      "136/136 [==============================] - 1s 11ms/step - loss: 0.0467 - mse: 0.0467 - val_loss: 0.0502 - val_mse: 0.0502\n"
     ]
    }
   ],
   "source": [
    "ep = 50\n",
    "callback = tf.keras.callbacks.EarlyStopping(monitor='loss', \n",
    "                                                patience=5)\n",
    "history = model_conv1D.fit(X_train_reshaped, y_train, epochs=ep,\n",
    "                    validation_data = (X_val_reshaped, y_val), \n",
    "                           verbose=1, callbacks=[callback])"
   ]
  },
  {
   "cell_type": "code",
   "execution_count": 278,
   "id": "55c8322a",
   "metadata": {},
   "outputs": [
    {
     "name": "stdout",
     "output_type": "stream",
     "text": [
      "Testing set Mean Abs Error:   50.05\n"
     ]
    },
    {
     "data": {
      "image/png": "[encoded data removed]",
      "text/plain": [
       "<Figure size 720x432 with 1 Axes>"
      ]
     },
     "metadata": {},
     "output_type": "display_data"
    }
   ],
   "source": [
    "[loss, mae] = model_conv1D.evaluate(X_test_reshaped, y_test, verbose=0)\n",
    "print(\"Testing set Mean Abs Error: {:7.2f}\".format(mae * 1000))\n",
    "\n",
    "pred =model_conv1D.predict(X_test_reshaped)\n",
    "\n",
    "y_pred_inv = scaler2.inverse_transform(y)\n",
    "x_pred_inv = scaler3.inverse_transform(X)\n",
    "\n",
    "train_loss = history.history['loss']\n",
    "val_loss = history.history['val_loss']\n",
    "\n",
    "def plot_train_val(A, B, n, xlabel, ylabel, title):\n",
    "    plt.figure(1, figsize=(10, 6))\n",
    "    plt.plot(range(n),A)\n",
    "    plt.plot(range(n),B)\n",
    "    plt.ylabel(xlabel)\n",
    "    plt.xlabel(ylabel)\n",
    "    plt.title(title)\n",
    "    plt.grid(True)\n",
    "    plt.legend(['Training', 'Validation'])\n",
    "    plt.show()\n",
    "\n",
    "plot_train_val(train_loss, val_loss, ep, 'Loss', 'Number of epochs', 'Training loss vs Validation loss')"
   ]
  },
  {
   "cell_type": "code",
   "execution_count": 279,
   "id": "6931e5c7",
   "metadata": {},
   "outputs": [],
   "source": [
    "from sklearn.metrics import mean_absolute_error"
   ]
  },
  {
   "cell_type": "code",
   "execution_count": 280,
   "id": "c97e3512",
   "metadata": {},
   "outputs": [
    {
     "name": "stdout",
     "output_type": "stream",
     "text": [
      "(543,)\n",
      "(543,)\n"
     ]
    },
    {
     "data": {
      "image/png": "[encoded data removed]",
      "text/plain": [
       "<Figure size 432x288 with 1 Axes>"
      ]
     },
     "metadata": {},
     "output_type": "display_data"
    }
   ],
   "source": [
    "a = scaler2.inverse_transform(pred)\n",
    "print(a[:,0].shape)\n",
    "\n",
    "\n",
    "b = scaler2.inverse_transform(y_test)\n",
    "print(b[:,0].shape)\n",
    "\n",
    "plt.figure()\n",
    "plt.hist(a[:,0], label=\"pred\")\n",
    "plt.hist(b[:,0], label=\"test\")\n",
    "\n",
    "plt.legend(loc=\"best\")\n",
    "plt.show()\n",
    "\n",
    "\n",
    "\n"
   ]
  },
  {
   "cell_type": "code",
   "execution_count": 281,
   "id": "1b53e51c",
   "metadata": {},
   "outputs": [
    {
     "data": {
      "text/plain": [
       "(543,)"
      ]
     },
     "execution_count": 281,
     "metadata": {},
     "output_type": "execute_result"
    }
   ],
   "source": [
    "pred[:,0].shape"
   ]
  },
  {
   "cell_type": "code",
   "execution_count": 282,
   "id": "2b014b7d",
   "metadata": {},
   "outputs": [
    {
     "data": {
      "image/png": "[encoded data removed]",
      "text/plain": [
       "<Figure size 432x288 with 1 Axes>"
      ]
     },
     "metadata": {},
     "output_type": "display_data"
    }
   ],
   "source": [
    "plt.figure()\n",
    "plt.hist(a[:,1], label=\"pred\")\n",
    "plt.hist(b[:,1], label=\"test\")\n",
    "\n",
    "plt.legend(loc=\"best\")\n",
    "plt.show()\n",
    "\n"
   ]
  },
  {
   "cell_type": "code",
   "execution_count": 283,
   "id": "86bb68fb",
   "metadata": {},
   "outputs": [
    {
     "data": {
      "image/png": "[encoded data removed]",
      "text/plain": [
       "<Figure size 432x288 with 1 Axes>"
      ]
     },
     "metadata": {},
     "output_type": "display_data"
    }
   ],
   "source": [
    "\n",
    "plt.figure()\n",
    "plt.hist(a[:,2], label=\"pred\")\n",
    "plt.hist(b[:,2], label=\"test\")\n",
    "\n",
    "plt.legend(loc=\"best\")\n",
    "plt.show()\n",
    "\n"
   ]
  },
  {
   "cell_type": "code",
   "execution_count": 284,
   "id": "4d6223e8",
   "metadata": {},
   "outputs": [
    {
     "data": {
      "image/png": "[encoded data removed]",
      "text/plain": [
       "<Figure size 432x288 with 1 Axes>"
      ]
     },
     "metadata": {},
     "output_type": "display_data"
    }
   ],
   "source": [
    "plt.figure()\n",
    "plt.hist(pred[:,0], label=\"pred\")\n",
    "plt.hist(y_test[:,0], label=\"test\")\n",
    "\n",
    "plt.legend(loc=\"best\")\n",
    "plt.show()\n"
   ]
  },
  {
   "cell_type": "code",
   "execution_count": 285,
   "id": "2c5f36fb",
   "metadata": {},
   "outputs": [
    {
     "data": {
      "image/png": "[encoded data removed]",
      "text/plain": [
       "<Figure size 432x288 with 1 Axes>"
      ]
     },
     "metadata": {},
     "output_type": "display_data"
    }
   ],
   "source": [
    "plt.figure()\n",
    "plt.hist(pred[:,1], label=\"pred\")\n",
    "plt.hist(y_test[:,1], label=\"test\")\n",
    "\n",
    "plt.legend(loc=\"best\")\n",
    "plt.show()"
   ]
  },
  {
   "cell_type": "code",
   "execution_count": 286,
   "id": "b9b947af",
   "metadata": {},
   "outputs": [
    {
     "data": {
      "image/png": "[encoded data removed]",
      "text/plain": [
       "<Figure size 432x288 with 1 Axes>"
      ]
     },
     "metadata": {},
     "output_type": "display_data"
    }
   ],
   "source": [
    "plt.figure()\n",
    "plt.hist(y_test[:,2], label=\"test\")\n",
    "plt.hist(pred[:,2], label=\"pred\")\n",
    "plt.legend(loc=\"best\")\n",
    "plt.show()"
   ]
  },
  {
   "cell_type": "code",
   "execution_count": 287,
   "id": "4356cec3",
   "metadata": {},
   "outputs": [
    {
     "data": {
      "text/plain": [
       "259.16469687651534"
      ]
     },
     "execution_count": 287,
     "metadata": {},
     "output_type": "execute_result"
    }
   ],
   "source": [
    "mean_absolute_error(a, b)"
   ]
  },
  {
   "cell_type": "code",
   "execution_count": 288,
   "id": "7b5d1b52",
   "metadata": {},
   "outputs": [],
   "source": [
    "e_teff = abs(y_test[:,0] - pred[:,0])\n",
    "e_logg = abs(y_test[:,1] - pred[:,1])\n",
    "e_vrot = abs(y_test[:,2] - pred[:,2])"
   ]
  },
  {
   "cell_type": "code",
   "execution_count": 289,
   "id": "e48f475d",
   "metadata": {},
   "outputs": [
    {
     "data": {
      "image/png": "[encoded data removed]",
      "text/plain": [
       "<Figure size 432x288 with 1 Axes>"
      ]
     },
     "metadata": {},
     "output_type": "display_data"
    }
   ],
   "source": [
    "plt.figure()\n",
    "plt.hist(e_teff)\n",
    "plt.show()"
   ]
  },
  {
   "cell_type": "code",
   "execution_count": 290,
   "id": "e286b17c",
   "metadata": {},
   "outputs": [
    {
     "data": {
      "image/png": "[encoded data removed]",
      "text/plain": [
       "<Figure size 432x288 with 1 Axes>"
      ]
     },
     "metadata": {},
     "output_type": "display_data"
    }
   ],
   "source": [
    "plt.figure()\n",
    "plt.hist(e_logg)\n",
    "plt.show()"
   ]
  },
  {
   "cell_type": "code",
   "execution_count": 291,
   "id": "85c1cccb",
   "metadata": {},
   "outputs": [
    {
     "data": {
      "image/png": "[encoded data removed]",
      "text/plain": [
       "<Figure size 432x288 with 1 Axes>"
      ]
     },
     "metadata": {},
     "output_type": "display_data"
    }
   ],
   "source": [
    "plt.figure()\n",
    "plt.hist(e_vrot)\n",
    "plt.show()"
   ]
  },
  {
   "cell_type": "markdown",
   "id": "0c98884f",
   "metadata": {},
   "source": [
    "# BeSoS lines"
   ]
  },
  {
   "cell_type": "code",
   "execution_count": 295,
   "id": "2f053d2f",
   "metadata": {},
   "outputs": [
    {
     "name": "stderr",
     "output_type": "stream",
     "text": [
      "C:\\Users\\omarc\\AppData\\Local\\Temp/ipykernel_2536/626103812.py:9: UserWarning: Boolean Series key will be reindexed to match DataFrame index.\n",
      "  df2 = df[m1][m2]\n"
     ]
    },
    {
     "data": {
      "text/html": [
       "<div>\n",
       "<style scoped>\n",
       "    .dataframe tbody tr th:only-of-type {\n",
       "        vertical-align: middle;\n",
       "    }\n",
       "\n",
       "    .dataframe tbody tr th {\n",
       "        vertical-align: top;\n",
       "    }\n",
       "\n",
       "    .dataframe thead th {\n",
       "        text-align: right;\n",
       "    }\n",
       "</style>\n",
       "<table border=\"1\" class=\"dataframe\">\n",
       "  <thead>\n",
       "    <tr style=\"text-align: right;\">\n",
       "      <th></th>\n",
       "      <th>0</th>\n",
       "      <th>1</th>\n",
       "    </tr>\n",
       "  </thead>\n",
       "  <tbody>\n",
       "    <tr>\n",
       "      <th>2367</th>\n",
       "      <td>4460.022618</td>\n",
       "      <td>0.979893</td>\n",
       "    </tr>\n",
       "    <tr>\n",
       "      <th>2368</th>\n",
       "      <td>4460.111978</td>\n",
       "      <td>0.998823</td>\n",
       "    </tr>\n",
       "    <tr>\n",
       "      <th>2369</th>\n",
       "      <td>4460.201338</td>\n",
       "      <td>1.020981</td>\n",
       "    </tr>\n",
       "    <tr>\n",
       "      <th>2370</th>\n",
       "      <td>4460.290697</td>\n",
       "      <td>1.021009</td>\n",
       "    </tr>\n",
       "    <tr>\n",
       "      <th>2371</th>\n",
       "      <td>4460.380057</td>\n",
       "      <td>1.018809</td>\n",
       "    </tr>\n",
       "    <tr>\n",
       "      <th>...</th>\n",
       "      <td>...</td>\n",
       "      <td>...</td>\n",
       "    </tr>\n",
       "    <tr>\n",
       "      <th>2586</th>\n",
       "      <td>4479.592386</td>\n",
       "      <td>0.986350</td>\n",
       "    </tr>\n",
       "    <tr>\n",
       "      <th>2587</th>\n",
       "      <td>4479.681746</td>\n",
       "      <td>0.977661</td>\n",
       "    </tr>\n",
       "    <tr>\n",
       "      <th>2588</th>\n",
       "      <td>4479.771106</td>\n",
       "      <td>0.998069</td>\n",
       "    </tr>\n",
       "    <tr>\n",
       "      <th>2589</th>\n",
       "      <td>4479.860465</td>\n",
       "      <td>0.996876</td>\n",
       "    </tr>\n",
       "    <tr>\n",
       "      <th>2590</th>\n",
       "      <td>4479.949825</td>\n",
       "      <td>0.948284</td>\n",
       "    </tr>\n",
       "  </tbody>\n",
       "</table>\n",
       "<p>224 rows × 2 columns</p>\n",
       "</div>"
      ],
      "text/plain": [
       "                0         1\n",
       "2367  4460.022618  0.979893\n",
       "2368  4460.111978  0.998823\n",
       "2369  4460.201338  1.020981\n",
       "2370  4460.290697  1.021009\n",
       "2371  4460.380057  1.018809\n",
       "...           ...       ...\n",
       "2586  4479.592386  0.986350\n",
       "2587  4479.681746  0.977661\n",
       "2588  4479.771106  0.998069\n",
       "2589  4479.860465  0.996876\n",
       "2590  4479.949825  0.948284\n",
       "\n",
       "[224 rows x 2 columns]"
      ]
     },
     "execution_count": 295,
     "metadata": {},
     "output_type": "execute_result"
    }
   ],
   "source": [
    "df = pd.read_csv(\"data/BESOS/2_Be_stars/HD33328/PUCHEROS/hd37041_2014-01-29_03-58-58_final_corr.txt\", sep=\"\\t\", header=None)\n",
    "#df = pd.read_csv(\"data/BESOS/2_Be_stars/HD33328/PUCHEROS/hd37041_2014-01-29_03-58-58_final_corr.txt\", sep=\"\\t\", header=None)\n",
    "#hd33328_2013-02-26_00-55-34_final_corr\n",
    "\n",
    "#print (df)\n",
    "m1 = df[0] >= 4460\n",
    "m2 = df[0] <= 4480\n",
    "\n",
    "df2 = df[m1][m2]\n",
    "\n",
    "df2"
   ]
  },
  {
   "cell_type": "code",
   "execution_count": 297,
   "id": "d21e6fc0",
   "metadata": {},
   "outputs": [
    {
     "data": {
      "image/png": "[encoded data removed]",
      "text/plain": [
       "<Figure size 576x432 with 1 Axes>"
      ]
     },
     "metadata": {},
     "output_type": "display_data"
    }
   ],
   "source": [
    "plt.figure(figsize=(8,6))\n",
    "plt.plot(df2[0], df2[1], label=\"Línea observada\")\n",
    "#plt.plot(df4[0], df4[1], label=\"Modelo\")\n",
    "plt.grid()\n",
    "plt.legend(loc=\"best\")\n",
    "plt.show()"
   ]
  },
  {
   "cell_type": "code",
   "execution_count": 298,
   "id": "17ace05e",
   "metadata": {},
   "outputs": [],
   "source": [
    "n = 201  # for 2 random indices\n",
    "index = np.random.choice(df2[0].shape[0], n, replace=False) "
   ]
  },
  {
   "cell_type": "code",
   "execution_count": 299,
   "id": "76a3788f",
   "metadata": {},
   "outputs": [],
   "source": [
    "index.sort()"
   ]
  },
  {
   "cell_type": "code",
   "execution_count": 300,
   "id": "64d4c525",
   "metadata": {},
   "outputs": [],
   "source": [
    "obs_waves = df2[0].values[index]\n",
    "\n",
    "obs_flux = df2[1].values[index]\n",
    "\n"
   ]
  },
  {
   "cell_type": "code",
   "execution_count": 301,
   "id": "09c8a8d4",
   "metadata": {},
   "outputs": [
    {
     "data": {
      "text/plain": [
       "(201,)"
      ]
     },
     "execution_count": 301,
     "metadata": {},
     "output_type": "execute_result"
    }
   ],
   "source": [
    "obs_flux.shape"
   ]
  },
  {
   "cell_type": "code",
   "execution_count": 302,
   "id": "cad962e9",
   "metadata": {},
   "outputs": [
    {
     "data": {
      "image/png": "[encoded data removed]",
      "text/plain": [
       "<Figure size 576x432 with 1 Axes>"
      ]
     },
     "metadata": {},
     "output_type": "display_data"
    }
   ],
   "source": [
    "plt.figure(figsize=(8,6))\n",
    "plt.plot(obs_waves, obs_flux ,label=\"Línea observada\")\n",
    "plt.legend(loc=\"best\")\n",
    "plt.show()"
   ]
  },
  {
   "cell_type": "code",
   "execution_count": 303,
   "id": "2fc93f29",
   "metadata": {},
   "outputs": [],
   "source": [
    "#obs_x_reshaped = x_obs_inv.reshape((1, time_steps, input_dimension))\n",
    "#obs_x_reshaped = obs_x.reshape((1, time_steps, input_dimension))\n",
    "\n",
    "obs_flux_reshaped = obs_flux.reshape((1, time_steps, input_dimension))"
   ]
  },
  {
   "cell_type": "code",
   "execution_count": 304,
   "id": "42156890",
   "metadata": {},
   "outputs": [],
   "source": [
    "pred_obs =model_conv1D.predict(obs_flux_reshaped)"
   ]
  },
  {
   "cell_type": "code",
   "execution_count": 305,
   "id": "c91ef2a6",
   "metadata": {},
   "outputs": [
    {
     "name": "stdout",
     "output_type": "stream",
     "text": [
      "t_eff: 0.33992356\n",
      "log g: -0.17051028\n",
      "v_rot: -0.12908676\n"
     ]
    }
   ],
   "source": [
    "# Acá los resultados es con los datos normalizados\n",
    "print(\"t_eff:\", pred_obs[0][0])\n",
    "print(\"log g:\", pred_obs[0][1])\n",
    "print(\"v_rot:\", pred_obs[0][2])\n"
   ]
  },
  {
   "cell_type": "markdown",
   "id": "0d5c54de",
   "metadata": {},
   "source": [
    "## \"Desnomralización de la predicción\""
   ]
  },
  {
   "cell_type": "code",
   "execution_count": 306,
   "id": "16502e96",
   "metadata": {},
   "outputs": [],
   "source": [
    "pred_obs_inv = scaler2.inverse_transform(pred_obs)"
   ]
  },
  {
   "cell_type": "code",
   "execution_count": 307,
   "id": "0b03f608",
   "metadata": {},
   "outputs": [
    {
     "data": {
      "text/plain": [
       "array([[2.9451223e+04, 3.3294897e+00, 2.3845413e+02]], dtype=float32)"
      ]
     },
     "execution_count": 307,
     "metadata": {},
     "output_type": "execute_result"
    }
   ],
   "source": [
    "pred_obs_inv"
   ]
  },
  {
   "cell_type": "code",
   "execution_count": 311,
   "id": "03df7da4",
   "metadata": {},
   "outputs": [
    {
     "name": "stdout",
     "output_type": "stream",
     "text": [
      "Temperatura efectiva:  29451.223\n",
      "Log g:  3.3294897\n",
      "Velocidad de rotación:  238.45413\n"
     ]
    }
   ],
   "source": [
    "print(\"Temperatura efectiva: \", pred_obs_inv[0,0])\n",
    "print(\"Log g: \",pred_obs_inv[0,1])\n",
    "print(\"Velocidad de rotación: \",pred_obs_inv[0,2])"
   ]
  },
  {
   "cell_type": "code",
   "execution_count": null,
   "id": "6fcf3efc",
   "metadata": {},
   "outputs": [],
   "source": []
  }
 ],
 "metadata": {
  "kernelspec": {
   "display_name": "Python 3 (ipykernel)",
   "language": "python",
   "name": "python3"
  },
  "language_info": {
   "codemirror_mode": {
    "name": "ipython",
    "version": 3
   },
   "file_extension": ".py",
   "mimetype": "text/x-python",
   "name": "python",
   "nbconvert_exporter": "python",
   "pygments_lexer": "ipython3",
   "version": "3.9.7"
  }
 },
 "nbformat": 4,
 "nbformat_minor": 5
}
